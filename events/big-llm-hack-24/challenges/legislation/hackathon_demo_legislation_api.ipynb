{
 "cells": [
  {
   "cell_type": "markdown",
   "id": "fe2500c9-3025-4da3-a508-70569a727f63",
   "metadata": {
    "tags": []
   },
   "source": [
    "# legislation.gov.uk API\n",
    "\n",
    "\n",
    "Published legislation is available from [legislation.gov.uk](https://www.legislation.gov.uk/) via an API. API guidance can be found [here](https://legislation.github.io/data-documentation/api/overview.html) but we demo its basic usage in this notebook.\n",
    "\n",
    "There are several options for [file formats](https://legislation.github.io/data-documentation/formats/overview.html) - the recommended format is [XML](https://legislation.github.io/data-documentation/api/xml-intro.html) and documentation on the XML dialect can be found [here](https://legislation.github.io/clml-schema/userguide.html).\n",
    "\n",
    "A bulk download service is also available, but note that the data provided is a couple of years out of date: http://leggovuk-ldn.s3-website.eu-west-2.amazonaws.com/"
   ]
  },
  {
   "cell_type": "markdown",
   "id": "0b263727-70c1-4163-a76d-db3f3ea6dc78",
   "metadata": {},
   "source": [
    "## Get data via API\n",
    "\n",
    "This section shows how to obtain the [Theft Act 1968](https://www.legislation.gov.uk/ukpga/1968/60/contents) via the API."
   ]
  },
  {
   "cell_type": "code",
   "execution_count": null,
   "id": "61039a75-5d09-4d10-9595-7b5ac2a13718",
   "metadata": {},
   "outputs": [],
   "source": [
    "import requests\n",
    "\n",
    "url = \"https://www.legislation.gov.uk/ukpga/1968/60/data.xml\""
   ]
  },
  {
   "cell_type": "code",
   "execution_count": null,
   "id": "2474d2d1-5fc7-4acb-8efd-0355b8f2796a",
   "metadata": {},
   "outputs": [],
   "source": [
    "response = requests.get(url)\n",
    "\n",
    "if response.ok:\n",
    "    print(\"Ok!\")\n",
    "    print(response.url)"
   ]
  },
  {
   "cell_type": "markdown",
   "id": "a3c424bc-0d0d-46ad-a651-1bb969bba880",
   "metadata": {
    "tags": []
   },
   "source": [
    "## Parse XML data using BeautifulSoup\n",
    "\n",
    "There are various Python libraries available for parsing XML data. Here's an example using BeautifulSoup."
   ]
  },
  {
   "cell_type": "code",
   "execution_count": null,
   "id": "384bcfab-7d29-4165-9d92-2347dbe39a82",
   "metadata": {},
   "outputs": [],
   "source": [
    "from bs4 import BeautifulSoup\n",
    "\n",
    "soup = BeautifulSoup(response.text, 'xml')"
   ]
  },
  {
   "cell_type": "code",
   "execution_count": null,
   "id": "8806ecd5-08f8-4de9-9c5c-113f1e8a6bc8",
   "metadata": {},
   "outputs": [],
   "source": [
    "# Get the Act title\n",
    "soup.title.string"
   ]
  },
  {
   "cell_type": "code",
   "execution_count": null,
   "id": "6fdf5818-429a-4887-a839-00de4d459d60",
   "metadata": {},
   "outputs": [],
   "source": [
    "# The url to the document on the legislation.gov website\n",
    "soup.identifier.string"
   ]
  },
  {
   "cell_type": "code",
   "execution_count": null,
   "id": "dbc36550-c1de-443f-b8bb-32d113744458",
   "metadata": {},
   "outputs": [],
   "source": [
    "# Act introduction\n",
    "soup.description.string"
   ]
  },
  {
   "cell_type": "code",
   "execution_count": null,
   "id": "6b197577-a0d9-4f85-880f-6e8019699f60",
   "metadata": {
    "tags": []
   },
   "outputs": [],
   "source": [
    "# Preview text\n",
    "soup.get_text(\" \", strip=True)[:1000]"
   ]
  },
  {
   "cell_type": "markdown",
   "id": "91ed9716-2834-4609-a0b5-6257d5ef3142",
   "metadata": {},
   "source": [
    "## Extract text from specific Sections"
   ]
  },
  {
   "cell_type": "code",
   "execution_count": null,
   "id": "192a5b69-1ead-4329-b45b-0cb8f17b04f6",
   "metadata": {
    "tags": []
   },
   "outputs": [],
   "source": [
    "# Get a list of all Sections in the Act\n",
    "section_ids = [section.P1.get(\"id\") for section in soup.find_all(\"P1group\")]\n",
    "section_ids = [section for section in section_ids if section is not None]\n",
    "section_ids"
   ]
  },
  {
   "cell_type": "code",
   "execution_count": null,
   "id": "911e56fd-8f80-4f18-9ef1-93cd3ffac578",
   "metadata": {},
   "outputs": [],
   "source": [
    "# Get text from a specific Section\n",
    "soup.find(id=section_ids[0]).get_text(\" \")"
   ]
  },
  {
   "cell_type": "code",
   "execution_count": null,
   "id": "29f45adc-8795-4d29-a5ee-40dcb3011883",
   "metadata": {},
   "outputs": [],
   "source": []
  },
  {
   "cell_type": "code",
   "execution_count": null,
   "id": "f0622432-191f-4d52-8652-055ad6dd6d11",
   "metadata": {},
   "outputs": [],
   "source": []
  }
 ],
 "metadata": {
  "kernelspec": {
   "display_name": "Legislation - new Haystack",
   "language": "python",
   "name": "venv_legislation_new"
  },
  "language_info": {
   "codemirror_mode": {
    "name": "ipython",
    "version": 3
   },
   "file_extension": ".py",
   "mimetype": "text/x-python",
   "name": "python",
   "nbconvert_exporter": "python",
   "pygments_lexer": "ipython3",
   "version": "3.9.6"
  }
 },
 "nbformat": 4,
 "nbformat_minor": 5
}
